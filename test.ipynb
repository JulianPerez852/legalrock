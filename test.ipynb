{
 "cells": [
  {
   "cell_type": "code",
   "execution_count": 1,
   "metadata": {},
   "outputs": [],
   "source": [
    "from app.repositories.persistence_repository import PersistenceRepository"
   ]
  },
  {
   "cell_type": "code",
   "execution_count": 2,
   "metadata": {},
   "outputs": [],
   "source": [
    "### Códito para guardar un nuevo registro\n",
    "\n",
    "repository = PersistenceRepository()\n",
    "data = repository.get_conversation()\n",
    "\n",
    "max_record = max(data.values(), key=lambda x: int(x['id_conversation']))\n",
    "\n",
    "max_record[\"id_conversation\"] += 1\n",
    "\n",
    "data_record =  {}\n",
    "\n",
    "data_record[str(max_record[\"id_conversation\"])] = max_record\n",
    "\n",
    "repository.set_conversation(data_record, data)"
   ]
  },
  {
   "cell_type": "code",
   "execution_count": 1,
   "metadata": {},
   "outputs": [],
   "source": [
    "from app.repositories.choise_cases_repository import ChoiseCasesRepository"
   ]
  },
  {
   "cell_type": "code",
   "execution_count": 2,
   "metadata": {},
   "outputs": [
    {
     "name": "stdout",
     "output_type": "stream",
     "text": [
      "finish\n",
      "('data', 'user_conversation')\n",
      "Se escogió el caso de tipo finish\n"
     ]
    }
   ],
   "source": [
    "choise_rep = ChoiseCasesRepository()\n",
    "choise_rep.switch_case(\"finish\", \"data\", \"user_conversation\")"
   ]
  },
  {
   "cell_type": "code",
   "execution_count": null,
   "metadata": {},
   "outputs": [],
   "source": []
  }
 ],
 "metadata": {
  "kernelspec": {
   "display_name": ".venv",
   "language": "python",
   "name": "python3"
  },
  "language_info": {
   "codemirror_mode": {
    "name": "ipython",
    "version": 3
   },
   "file_extension": ".py",
   "mimetype": "text/x-python",
   "name": "python",
   "nbconvert_exporter": "python",
   "pygments_lexer": "ipython3",
   "version": "3.12.0"
  }
 },
 "nbformat": 4,
 "nbformat_minor": 2
}
